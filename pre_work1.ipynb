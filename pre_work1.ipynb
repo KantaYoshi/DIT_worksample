{
 "cells": [
  {
   "cell_type": "code",
   "execution_count": 15,
   "metadata": {},
   "outputs": [
    {
     "name": "stdout",
     "output_type": "stream",
     "text": [
      "厚さ（べき）： 703687441.77664メートル\n"
     ]
    }
   ],
   "source": [
    "\"\"\"\n",
    "問題１,3\n",
    "紙を1回折った時の厚さを計算するコード\n",
    "\"\"\"\n",
    "\n",
    "THICKNESS = 0.00008\n",
    "    \n",
    "folded_thickness_beki=THICKNESS*2**43\n",
    "\n",
    "print(\"厚さ（べき）： {}メートル\".format(folded_thickness_beki))    "
   ]
  },
  {
   "cell_type": "code",
   "execution_count": 16,
   "metadata": {},
   "outputs": [
    {
     "name": "stdout",
     "output_type": "stream",
     "text": [
      "厚さ（べき）： 70.37万キロメートル\n"
     ]
    }
   ],
   "source": [
    "\"\"\"\n",
    "問題２\n",
    "folded_thicknessを単位変換（万km）\n",
    "\"\"\"\n",
    "print(\"厚さ（べき）： {:.2f}万キロメートル\".format(folded_thickness/10000/1000))"
   ]
  },
  {
   "cell_type": "code",
   "execution_count": 17,
   "metadata": {},
   "outputs": [
    {
     "name": "stdout",
     "output_type": "stream",
     "text": [
      "厚さ（for）： 703687441.77664メートル\n"
     ]
    }
   ],
   "source": [
    "\"\"\"\n",
    "問題３\n",
    "for文を使って\n",
    "\"\"\"\n",
    "folded_thickness_for = 0.00008\n",
    "\n",
    "for times in range(43):\n",
    "    folded_thickness_for*=2\n",
    "    \n",
    "print(\"厚さ（for）： {}メートル\".format(folded_thickness))"
   ]
  },
  {
   "cell_type": "code",
   "execution_count": 20,
   "metadata": {},
   "outputs": [
    {
     "name": "stdout",
     "output_type": "stream",
     "text": [
      "time(べき) : 0.0[s]\n"
     ]
    }
   ],
   "source": [
    "\"\"\"\n",
    "問題４\n",
    "計算時間の比較\n",
    "\"\"\"\n",
    "folded_thickness_beki=THICKNESS\n",
    "\n",
    "import time\n",
    "start = time.time()\n",
    "\n",
    "folded_thickness_beki=THICKNESS*2**43\n",
    "\n",
    "elapsed_time_beki = time.time() - start\n",
    "print(\"time(べき) : {}[s]\".format(elapsed_time_beki))"
   ]
  },
  {
   "cell_type": "code",
   "execution_count": 24,
   "metadata": {},
   "outputs": [
    {
     "name": "stdout",
     "output_type": "stream",
     "text": [
      "time(for) : 0.0[s]\n"
     ]
    }
   ],
   "source": [
    "folded_thickness_for = 0.00008\n",
    "start=time.time()\n",
    "\n",
    "for times in range(43):\n",
    "    folded_thickness_for*=2\n",
    "    \n",
    "elapsed_time_for = time.time() - start\n",
    "print(\"time(for) : {}[s]\".format(elapsed_time_for))"
   ]
  },
  {
   "cell_type": "code",
   "execution_count": 27,
   "metadata": {},
   "outputs": [
    {
     "name": "stdout",
     "output_type": "stream",
     "text": [
      "time(for):0.005985736846923828[s]\n",
      "time(べき):0.0[s]\n"
     ]
    }
   ],
   "source": [
    "num=2\n",
    "start=time.time()\n",
    "for times in range(10000):\n",
    "    num*=2\n",
    "elapsed_time_for=time.time()-start\n",
    "\n",
    "num=2\n",
    "start=time.time()\n",
    "num_beki=num**10000\n",
    "elapsed_time_beki=time.time()-start\n",
    "\n",
    "print(\"time(for):{}[s]\".format(elapsed_time_for))\n",
    "print(\"time(べき):{}[s]\".format(elapsed_time_beki))"
   ]
  },
  {
   "cell_type": "markdown",
   "metadata": {},
   "source": [
    "43回程度の場合は、CPUの性能にもよるがほとんど差は生じない。\n",
    "10000回の場合には、べき乗の算術演算子を用いた場合の方が早かった。"
   ]
  },
  {
   "cell_type": "code",
   "execution_count": 49,
   "metadata": {},
   "outputs": [
    {
     "name": "stdout",
     "output_type": "stream",
     "text": [
      "time:44[回]\n",
      "703687441.77664\n"
     ]
    }
   ],
   "source": [
    "\"\"\"\n",
    "問題５\n",
    "43回折る過程の44個のデータを格納する。\n",
    "\"\"\"\n",
    "to_moon_list=[THICKNESS]\n",
    "folded_thickness=0.00008\n",
    "\n",
    "for times in range(43):\n",
    "    folded_thickness*=2\n",
    "    to_moon_list.append(folded_thickness)\n",
    "\n",
    "print(\"time:{}[回]\".format(len(to_moon_list)))\n",
    "print(to_moon_list[43])"
   ]
  },
  {
   "cell_type": "code",
   "execution_count": 50,
   "metadata": {},
   "outputs": [
    {
     "data": {
      "text/plain": [
       "[<matplotlib.lines.Line2D at 0x1b873855588>]"
      ]
     },
     "execution_count": 50,
     "metadata": {},
     "output_type": "execute_result"
    },
    {
     "data": {
      "image/png": "[encoded data removed]",
      "text/plain": [
       "<Figure size 432x288 with 1 Axes>"
      ]
     },
     "metadata": {},
     "output_type": "display_data"
    }
   ],
   "source": [
    "\"\"\"\n",
    "問題６\n",
    "折れ線グラフの表示\n",
    "\"\"\"\n",
    "import matplotlib.pyplot as plt\n",
    "%matplotlib inline\n",
    "\n",
    "plt.title(\"thickness of folded paper\")\n",
    "plt.xlabel(\"number of folds\")\n",
    "plt.ylabel(\"thickness[m]\")\n",
    "plt.plot(to_moon_list) # 「リスト名」のところにリストの変数名を入れる"
   ]
  },
  {
   "cell_type": "markdown",
   "metadata": {},
   "source": [
    "指数関数上に、40回を超えたあたりから爆発的に増加していることが分かる。"
   ]
  },
  {
   "cell_type": "code",
   "execution_count": 51,
   "metadata": {},
   "outputs": [
    {
     "data": {
      "text/plain": [
       "'問題7\\nグラフのカスタマイズ（３種類）'"
      ]
     },
     "execution_count": 51,
     "metadata": {},
     "output_type": "execute_result"
    }
   ],
   "source": [
    "\"\"\"問題7\n",
    "グラフのカスタマイズ（３種類）\"\"\""
   ]
  },
  {
   "cell_type": "markdown",
   "metadata": {},
   "source": [
    "1種類目"
   ]
  },
  {
   "cell_type": "code",
   "execution_count": 52,
   "metadata": {},
   "outputs": [
    {
     "data": {
      "text/plain": [
       "[<matplotlib.lines.Line2D at 0x1b8738b1780>]"
      ]
     },
     "execution_count": 52,
     "metadata": {},
     "output_type": "execute_result"
    },
    {
     "data": {
      "image/png": "[encoded data removed]",
      "text/plain": [
       "<Figure size 432x288 with 1 Axes>"
      ]
     },
     "metadata": {},
     "output_type": "display_data"
    }
   ],
   "source": [
    "plt.title(\"thickness of folded paper\")\n",
    "plt.xlabel(\"number of folds\")\n",
    "plt.ylabel(\"thickness[m]\")\n",
    "plt.plot(to_moon_list, color='red')"
   ]
  },
  {
   "cell_type": "markdown",
   "metadata": {},
   "source": [
    "2種類目"
   ]
  },
  {
   "cell_type": "code",
   "execution_count": 53,
   "metadata": {},
   "outputs": [
    {
     "data": {
      "text/plain": [
       "[<matplotlib.lines.Line2D at 0x1b87c784ac8>]"
      ]
     },
     "execution_count": 53,
     "metadata": {},
     "output_type": "execute_result"
    },
    {
     "data": {
      "image/png": "[encoded data removed]",
      "text/plain": [
       "<Figure size 432x288 with 1 Axes>"
      ]
     },
     "metadata": {},
     "output_type": "display_data"
    }
   ],
   "source": [
    "plt.title(\"thickness of folded paper\")\n",
    "plt.xlabel(\"number of folds\")\n",
    "plt.ylabel(\"thickness[m]\")\n",
    "plt.tick_params(labelsize=20) # 軸の値に関する設定を行う\n",
    "plt.plot(to_moon_list)"
   ]
  },
  {
   "cell_type": "markdown",
   "metadata": {},
   "source": [
    "3種類目"
   ]
  },
  {
   "cell_type": "code",
   "execution_count": 54,
   "metadata": {},
   "outputs": [
    {
     "data": {
      "text/plain": [
       "[<matplotlib.lines.Line2D at 0x1b87c7d4ef0>]"
      ]
     },
     "execution_count": 54,
     "metadata": {},
     "output_type": "execute_result"
    },
    {
     "data": {
      "image/png": "[encoded data removed]",
      "text/plain": [
       "<Figure size 432x288 with 1 Axes>"
      ]
     },
     "metadata": {},
     "output_type": "display_data"
    }
   ],
   "source": [
    "plt.title(\"to_moon_list\")\n",
    "plt.xlabel(\"number of folds\")\n",
    "plt.ylabel(\"thickness[m]\")\n",
    "plt.grid()\n",
    "plt.plot(to_moon_list)"
   ]
  },
  {
   "cell_type": "code",
   "execution_count": null,
   "metadata": {},
   "outputs": [],
   "source": [
    "\"\"\"\n",
    "\"\"\""
   ]
  }
 ],
 "metadata": {
  "kernelspec": {
   "display_name": "Python 3",
   "language": "python",
   "name": "python3"
  },
  "language_info": {
   "codemirror_mode": {
    "name": "ipython",
    "version": 3
   },
   "file_extension": ".py",
   "mimetype": "text/x-python",
   "name": "python",
   "nbconvert_exporter": "python",
   "pygments_lexer": "ipython3",
   "version": "3.6.5"
  }
 },
 "nbformat": 4,
 "nbformat_minor": 2
}
